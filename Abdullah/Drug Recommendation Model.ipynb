{
 "cells": [
  {
   "cell_type": "markdown",
   "metadata": {
    "id": "83F1tufI6qfb"
   },
   "source": [
    "# Drug Prescription\n"
   ]
  },
  {
   "cell_type": "markdown",
   "metadata": {
    "id": "r-WMoG1O6qfm"
   },
   "source": [
    "<h1>Table of contents</h1>\n",
    "\n",
    "<div class=\"alert alert-block alert-info\" style=\"margin-top: 20px\">\n",
    "    <ol>\n",
    "        <li><a href=\"#about_dataset\">About the dataset</a></li>\n",
    "        <li><a href=\"#downloading_data\">Downloading the Data</a></li>\n",
    "        <li><a href=\"#pre-processing\">Pre-processing</a></li>\n",
    "        <li><a href=\"#setting_up_tree\">Setting up the Decision Tree</a></li>\n",
    "        <li><a href=\"#modeling\">Modeling</a></li>\n",
    "        <li><a href=\"#prediction\">Prediction</a></li>\n",
    "        <li><a href=\"#evaluation\">Evaluation</a></li>\n",
    "        <li><a href=\"#visualization\">Visualization</a></li>\n",
    "    </ol>\n",
    "</div>\n",
    "<br>\n",
    "<hr>\n"
   ]
  },
  {
   "cell_type": "markdown",
   "metadata": {},
   "source": [
    "#### Importing necessary Libraries "
   ]
  },
  {
   "cell_type": "code",
   "execution_count": 1,
   "metadata": {
    "id": "2ihhGDHH6qfp",
    "pycharm": {
     "is_executing": true
    }
   },
   "outputs": [],
   "source": [
    "import numpy as np \n",
    "import pandas as pd\n",
    "from sklearn.tree import DecisionTreeClassifier"
   ]
  },
  {
   "cell_type": "markdown",
   "metadata": {},
   "source": [
    "#### Loading Dataset "
   ]
  },
  {
   "cell_type": "code",
   "execution_count": 2,
   "metadata": {
    "id": "23UztCUF6qfv"
   },
   "outputs": [],
   "source": [
    "my_data=pd.read_csv(\"Drug prescription Dataset.csv\", delimiter=\",\")"
   ]
  },
  {
   "cell_type": "markdown",
   "metadata": {
    "id": "qciniWBD6qfx"
   },
   "source": [
    "#### Viewing First 5 rows of dataframe"
   ]
  },
  {
   "cell_type": "code",
   "execution_count": 3,
   "metadata": {
    "colab": {
     "base_uri": "https://localhost:8080/",
     "height": 206
    },
    "id": "1Gzwf9MQ6qfy",
    "outputId": "b352273d-2cd3-49cb-b4fb-48028471d1c2"
   },
   "outputs": [
    {
     "data": {
      "text/html": [
       "<div>\n",
       "<style scoped>\n",
       "    .dataframe tbody tr th:only-of-type {\n",
       "        vertical-align: middle;\n",
       "    }\n",
       "\n",
       "    .dataframe tbody tr th {\n",
       "        vertical-align: top;\n",
       "    }\n",
       "\n",
       "    .dataframe thead th {\n",
       "        text-align: right;\n",
       "    }\n",
       "</style>\n",
       "<table border=\"1\" class=\"dataframe\">\n",
       "  <thead>\n",
       "    <tr style=\"text-align: right;\">\n",
       "      <th></th>\n",
       "      <th>disease</th>\n",
       "      <th>age</th>\n",
       "      <th>gender</th>\n",
       "      <th>severity</th>\n",
       "      <th>drug</th>\n",
       "    </tr>\n",
       "  </thead>\n",
       "  <tbody>\n",
       "    <tr>\n",
       "      <th>0</th>\n",
       "      <td>diarrhea</td>\n",
       "      <td>4</td>\n",
       "      <td>male</td>\n",
       "      <td>LOW</td>\n",
       "      <td>promegranate drink</td>\n",
       "    </tr>\n",
       "    <tr>\n",
       "      <th>1</th>\n",
       "      <td>diarrhea</td>\n",
       "      <td>4</td>\n",
       "      <td>male</td>\n",
       "      <td>NORMAL</td>\n",
       "      <td>lime juice</td>\n",
       "    </tr>\n",
       "    <tr>\n",
       "      <th>2</th>\n",
       "      <td>diarrhea</td>\n",
       "      <td>5</td>\n",
       "      <td>male</td>\n",
       "      <td>LOW</td>\n",
       "      <td>promegranate drink</td>\n",
       "    </tr>\n",
       "    <tr>\n",
       "      <th>3</th>\n",
       "      <td>diarrhea</td>\n",
       "      <td>5</td>\n",
       "      <td>male</td>\n",
       "      <td>NORMAL</td>\n",
       "      <td>lime juice</td>\n",
       "    </tr>\n",
       "    <tr>\n",
       "      <th>4</th>\n",
       "      <td>diarrhea</td>\n",
       "      <td>6</td>\n",
       "      <td>male</td>\n",
       "      <td>LOW</td>\n",
       "      <td>promegranate drink</td>\n",
       "    </tr>\n",
       "  </tbody>\n",
       "</table>\n",
       "</div>"
      ],
      "text/plain": [
       "    disease  age gender severity                drug\n",
       "0  diarrhea    4   male      LOW  promegranate drink\n",
       "1  diarrhea    4   male   NORMAL          lime juice\n",
       "2  diarrhea    5   male      LOW  promegranate drink\n",
       "3  diarrhea    5   male   NORMAL          lime juice\n",
       "4  diarrhea    6   male      LOW  promegranate drink"
      ]
     },
     "execution_count": 3,
     "metadata": {},
     "output_type": "execute_result"
    }
   ],
   "source": [
    "my_data[0:5]"
   ]
  },
  {
   "cell_type": "markdown",
   "metadata": {
    "id": "8R5Lb3cr6qf0"
   },
   "source": [
    "#### Checking the shape of dataset"
   ]
  },
  {
   "cell_type": "code",
   "execution_count": 4,
   "metadata": {
    "colab": {
     "base_uri": "https://localhost:8080/"
    },
    "id": "AT3dloQ66qf1",
    "outputId": "493ea68b-e12a-4a1b-9109-5123b1e06f6e"
   },
   "outputs": [
    {
     "data": {
      "text/plain": [
       "(7407, 5)"
      ]
     },
     "execution_count": 4,
     "metadata": {},
     "output_type": "execute_result"
    }
   ],
   "source": [
    "my_data.shape"
   ]
  },
  {
   "cell_type": "markdown",
   "metadata": {
    "id": "IYIRjxqj6qf2"
   },
   "source": [
    "<div href=\"pre-processing\">\n",
    "    <h2>Pre-processing</h2>\n",
    "</div>\n"
   ]
  },
  {
   "cell_type": "markdown",
   "metadata": {
    "id": "-IrPEuNZCGuA"
   },
   "source": [
    "#### Checking for Duplicate values"
   ]
  },
  {
   "cell_type": "code",
   "execution_count": 5,
   "metadata": {
    "colab": {
     "base_uri": "https://localhost:8080/",
     "height": 1000
    },
    "id": "k-mBkgdqA3S5",
    "outputId": "e5f53dbe-c0ce-4678-8f88-1a3a1afba6d4"
   },
   "outputs": [
    {
     "name": "stdout",
     "output_type": "stream",
     "text": [
      "Duplicate Rows :\n"
     ]
    },
    {
     "data": {
      "text/plain": [
       "0       False\n",
       "1       False\n",
       "2       False\n",
       "3       False\n",
       "4       False\n",
       "        ...  \n",
       "7402    False\n",
       "7403    False\n",
       "7404    False\n",
       "7405    False\n",
       "7406    False\n",
       "Length: 7407, dtype: bool"
      ]
     },
     "execution_count": 5,
     "metadata": {},
     "output_type": "execute_result"
    }
   ],
   "source": [
    "duplicate = my_data.duplicated()\n",
    " \n",
    "print(\"Duplicate Rows :\")\n",
    " \n",
    "# Displaying the resultant Dataframe\n",
    "duplicate"
   ]
  },
  {
   "cell_type": "markdown",
   "metadata": {
    "id": "49VT6NWGCOaq"
   },
   "source": [
    "#### Removing duplicate values "
   ]
  },
  {
   "cell_type": "code",
   "execution_count": 6,
   "metadata": {
    "colab": {
     "base_uri": "https://localhost:8080/",
     "height": 423
    },
    "id": "k3S24QoxA8zC",
    "outputId": "ec09301e-8ee3-4d7e-a5d8-d24d296ab6a1"
   },
   "outputs": [
    {
     "data": {
      "text/html": [
       "<div>\n",
       "<style scoped>\n",
       "    .dataframe tbody tr th:only-of-type {\n",
       "        vertical-align: middle;\n",
       "    }\n",
       "\n",
       "    .dataframe tbody tr th {\n",
       "        vertical-align: top;\n",
       "    }\n",
       "\n",
       "    .dataframe thead th {\n",
       "        text-align: right;\n",
       "    }\n",
       "</style>\n",
       "<table border=\"1\" class=\"dataframe\">\n",
       "  <thead>\n",
       "    <tr style=\"text-align: right;\">\n",
       "      <th></th>\n",
       "      <th>disease</th>\n",
       "      <th>age</th>\n",
       "      <th>gender</th>\n",
       "      <th>severity</th>\n",
       "      <th>drug</th>\n",
       "    </tr>\n",
       "  </thead>\n",
       "  <tbody>\n",
       "    <tr>\n",
       "      <th>0</th>\n",
       "      <td>diarrhea</td>\n",
       "      <td>4</td>\n",
       "      <td>male</td>\n",
       "      <td>LOW</td>\n",
       "      <td>promegranate drink</td>\n",
       "    </tr>\n",
       "    <tr>\n",
       "      <th>1</th>\n",
       "      <td>diarrhea</td>\n",
       "      <td>4</td>\n",
       "      <td>male</td>\n",
       "      <td>NORMAL</td>\n",
       "      <td>lime juice</td>\n",
       "    </tr>\n",
       "    <tr>\n",
       "      <th>2</th>\n",
       "      <td>diarrhea</td>\n",
       "      <td>5</td>\n",
       "      <td>male</td>\n",
       "      <td>LOW</td>\n",
       "      <td>promegranate drink</td>\n",
       "    </tr>\n",
       "    <tr>\n",
       "      <th>3</th>\n",
       "      <td>diarrhea</td>\n",
       "      <td>5</td>\n",
       "      <td>male</td>\n",
       "      <td>NORMAL</td>\n",
       "      <td>lime juice</td>\n",
       "    </tr>\n",
       "    <tr>\n",
       "      <th>4</th>\n",
       "      <td>diarrhea</td>\n",
       "      <td>6</td>\n",
       "      <td>male</td>\n",
       "      <td>LOW</td>\n",
       "      <td>promegranate drink</td>\n",
       "    </tr>\n",
       "    <tr>\n",
       "      <th>...</th>\n",
       "      <td>...</td>\n",
       "      <td>...</td>\n",
       "      <td>...</td>\n",
       "      <td>...</td>\n",
       "      <td>...</td>\n",
       "    </tr>\n",
       "    <tr>\n",
       "      <th>7402</th>\n",
       "      <td>diarrhea</td>\n",
       "      <td>31</td>\n",
       "      <td>female</td>\n",
       "      <td>LOW</td>\n",
       "      <td>fenugreek seed</td>\n",
       "    </tr>\n",
       "    <tr>\n",
       "      <th>7403</th>\n",
       "      <td>diarrhea</td>\n",
       "      <td>31</td>\n",
       "      <td>female</td>\n",
       "      <td>NORMAL</td>\n",
       "      <td>mrutyunjay rasa</td>\n",
       "    </tr>\n",
       "    <tr>\n",
       "      <th>7404</th>\n",
       "      <td>diarrhea</td>\n",
       "      <td>31</td>\n",
       "      <td>female</td>\n",
       "      <td>NORMAL</td>\n",
       "      <td>sanjivani vati</td>\n",
       "    </tr>\n",
       "    <tr>\n",
       "      <th>7405</th>\n",
       "      <td>diarrhea</td>\n",
       "      <td>31</td>\n",
       "      <td>female</td>\n",
       "      <td>HIGH</td>\n",
       "      <td>tribhuvan kirti rasa</td>\n",
       "    </tr>\n",
       "    <tr>\n",
       "      <th>7406</th>\n",
       "      <td>diarrhea</td>\n",
       "      <td>31</td>\n",
       "      <td>female</td>\n",
       "      <td>HIGH</td>\n",
       "      <td>sitopaladi churna</td>\n",
       "    </tr>\n",
       "  </tbody>\n",
       "</table>\n",
       "<p>7359 rows × 5 columns</p>\n",
       "</div>"
      ],
      "text/plain": [
       "       disease  age  gender severity                  drug\n",
       "0     diarrhea    4    male      LOW    promegranate drink\n",
       "1     diarrhea    4    male   NORMAL            lime juice\n",
       "2     diarrhea    5    male      LOW    promegranate drink\n",
       "3     diarrhea    5    male   NORMAL            lime juice\n",
       "4     diarrhea    6    male      LOW    promegranate drink\n",
       "...        ...  ...     ...      ...                   ...\n",
       "7402  diarrhea   31  female      LOW        fenugreek seed\n",
       "7403  diarrhea   31  female   NORMAL       mrutyunjay rasa\n",
       "7404  diarrhea   31  female   NORMAL        sanjivani vati\n",
       "7405  diarrhea   31  female     HIGH  tribhuvan kirti rasa\n",
       "7406  diarrhea   31  female     HIGH     sitopaladi churna\n",
       "\n",
       "[7359 rows x 5 columns]"
      ]
     },
     "execution_count": 6,
     "metadata": {},
     "output_type": "execute_result"
    }
   ],
   "source": [
    "duplicate_vals = my_data.drop_duplicates()\n",
    "duplicate_vals"
   ]
  },
  {
   "cell_type": "markdown",
   "metadata": {
    "id": "cIwfVC0cCdFH"
   },
   "source": [
    "#### Checking the dataset shape after removing duplicates"
   ]
  },
  {
   "cell_type": "code",
   "execution_count": 7,
   "metadata": {
    "colab": {
     "base_uri": "https://localhost:8080/"
    },
    "id": "srR9TGrxBRJg",
    "outputId": "d7d97e67-971a-4e96-c7d4-ca49669e5f2d"
   },
   "outputs": [
    {
     "data": {
      "text/plain": [
       "(7407, 5)"
      ]
     },
     "execution_count": 7,
     "metadata": {},
     "output_type": "execute_result"
    }
   ],
   "source": [
    "my_data.shape"
   ]
  },
  {
   "cell_type": "markdown",
   "metadata": {
    "id": "YHh2-gJ56qf3"
   },
   "source": [
    "#### Removing the column containing the target name since it doesn't contain numeric values.\n"
   ]
  },
  {
   "cell_type": "code",
   "execution_count": 8,
   "metadata": {
    "colab": {
     "base_uri": "https://localhost:8080/"
    },
    "id": "_vK6URhk6qf3",
    "outputId": "96784070-e9a7-4ba8-cadf-0b1e98991814"
   },
   "outputs": [
    {
     "data": {
      "text/plain": [
       "array([['diarrhea', 4, 'male', 'LOW'],\n",
       "       ['diarrhea', 4, 'male', 'NORMAL'],\n",
       "       ['diarrhea', 5, 'male', 'LOW'],\n",
       "       ['diarrhea', 5, 'male', 'NORMAL'],\n",
       "       ['diarrhea', 6, 'male', 'LOW']], dtype=object)"
      ]
     },
     "execution_count": 8,
     "metadata": {},
     "output_type": "execute_result"
    }
   ],
   "source": [
    "X = my_data[[\"disease\",\"age\",\"gender\",\"severity\"]].values\n",
    "X[0:5]"
   ]
  },
  {
   "cell_type": "markdown",
   "metadata": {
    "id": "Pe4HSKVZ6qf4"
   },
   "source": []
  },
  {
   "cell_type": "code",
   "execution_count": null,
   "metadata": {
    "colab": {
     "base_uri": "https://localhost:8080/"
    },
    "id": "islftsjP6qf5",
    "outputId": "9dba3d49-b45c-4e02-b3a3-b381354442e5"
   },
   "outputs": [],
   "source": [
    "\n"
   ]
  },
  {
   "cell_type": "markdown",
   "metadata": {
    "id": "9NM-yQawrWeL"
   },
   "source": [
    "#### Checking for Null Values"
   ]
  },
  {
   "cell_type": "code",
   "execution_count": 9,
   "metadata": {
    "colab": {
     "base_uri": "https://localhost:8080/"
    },
    "id": "YCMk4wgZgYgI",
    "outputId": "c4d011db-4c12-408b-d736-1336ed3e28c2"
   },
   "outputs": [
    {
     "data": {
      "text/plain": [
       "disease     0\n",
       "age         0\n",
       "gender      0\n",
       "severity    0\n",
       "drug        0\n",
       "dtype: int64"
      ]
     },
     "execution_count": 9,
     "metadata": {},
     "output_type": "execute_result"
    }
   ],
   "source": [
    "my_data.isnull().sum()"
   ]
  },
  {
   "cell_type": "markdown",
   "metadata": {
    "id": "dA6CTDdrCnZa"
   },
   "source": [
    "#### Another method for checking Null Values "
   ]
  },
  {
   "cell_type": "code",
   "execution_count": 10,
   "metadata": {
    "colab": {
     "base_uri": "https://localhost:8080/"
    },
    "id": "g7d4XPryCmxv",
    "outputId": "51e59f5b-09f6-47dc-b3a6-e6dc91f44f6e"
   },
   "outputs": [
    {
     "data": {
      "text/plain": [
       "False"
      ]
     },
     "execution_count": 10,
     "metadata": {},
     "output_type": "execute_result"
    }
   ],
   "source": [
    "my_data.isnull().values.any()"
   ]
  },
  {
   "cell_type": "markdown",
   "metadata": {
    "id": "OMgYIt5c6qf5"
   },
   "source": [
    "#### Filling the target variable(Class).\n"
   ]
  },
  {
   "cell_type": "code",
   "execution_count": 11,
   "metadata": {
    "colab": {
     "base_uri": "https://localhost:8080/"
    },
    "id": "VFaz5Iga6qf6",
    "outputId": "b7ae75e6-5d15-4153-a622-9d6ea90472ab"
   },
   "outputs": [
    {
     "data": {
      "text/plain": [
       "0    promegranate drink\n",
       "1            lime juice\n",
       "2    promegranate drink\n",
       "3            lime juice\n",
       "4    promegranate drink\n",
       "5            lime juice\n",
       "6    promegranate drink\n",
       "7            lime juice\n",
       "8    promegranate drink\n",
       "9            lime juice\n",
       "Name: drug, dtype: object"
      ]
     },
     "execution_count": 11,
     "metadata": {},
     "output_type": "execute_result"
    }
   ],
   "source": [
    "y = my_data[\"drug\"]\n",
    "y[0:10]"
   ]
  },
  {
   "cell_type": "markdown",
   "metadata": {
    "id": "RPLSQp2s6qf7"
   },
   "source": [
    "<hr>\n",
    "\n",
    "<div id=\"setting_up_tree\">\n",
    "    <h2>Setting up the Decision Tree</h2>"
   ]
  },
  {
   "cell_type": "markdown",
   "metadata": {},
   "source": [
    "#### Setting a random seed for reproducibility"
   ]
  },
  {
   "cell_type": "code",
   "execution_count": 12,
   "metadata": {
    "id": "o_gaZvGc6qf7"
   },
   "outputs": [],
   "source": [
    "from sklearn.model_selection import train_test_split"
   ]
  },
  {
   "cell_type": "code",
   "execution_count": 13,
   "metadata": {},
   "outputs": [],
   "source": [
    "import numpy as np\n",
    "# set random seed for reproducibility\n",
    "np.random.seed(42)\n",
    "\n",
    "# load your data\n",
    "X = my_data[[\"disease\",\"age\",\"gender\",\"severity\"]].values # your feature data\n",
    "y = my_data[\"drug\"].values # your target data"
   ]
  },
  {
   "cell_type": "markdown",
   "metadata": {},
   "source": [
    "#### Converting categorical variable into dummy/indicator variables. (Preprocessing)\n"
   ]
  },
  {
   "cell_type": "code",
   "execution_count": 14,
   "metadata": {},
   "outputs": [
    {
     "data": {
      "text/plain": [
       "array([[0, 4, 1, 1],\n",
       "       [0, 4, 1, 2],\n",
       "       [0, 5, 1, 1],\n",
       "       [0, 5, 1, 2],\n",
       "       [0, 6, 1, 1]], dtype=object)"
      ]
     },
     "execution_count": 14,
     "metadata": {},
     "output_type": "execute_result"
    }
   ],
   "source": [
    "from sklearn import preprocessing\n",
    "le_disease = preprocessing.LabelEncoder()\n",
    "le_disease.fit([  'diarrhea','gastritis','osteoarthritis','rheumatoid arthritis','migraine'])\n",
    "X[:,0] = le_disease.transform(X[:,0])\n",
    "\n",
    "le_gender = preprocessing.LabelEncoder()\n",
    "le_gender.fit(['female','male'])\n",
    "X[:,2] = le_gender.transform(X[:,2]) \n",
    "\n",
    "  # le_age = preprocessing.LabelEncoder()\n",
    "  # le_age.fit([   '4',  '5',  '6',  '7',  '8',  '9', '10', '11', '12', '13', '14', '15', '16', '17' ,'18', '19', '20', '21', '22', '23', '24', '25', '26', '27',\n",
    "  # '28', '29', '30', '31'])\n",
    "  # X[:,1] = le_age.transform(X[:,1])\n",
    "\n",
    "le_severity = preprocessing.LabelEncoder()\n",
    "le_severity.fit([ 'LOW', 'NORMAL', 'HIGH'])\n",
    "X[:,3] = le_severity.transform(X[:,3])\n",
    "\n",
    "\n",
    "\n",
    "\n",
    "X[0:5]"
   ]
  },
  {
   "cell_type": "code",
   "execution_count": 15,
   "metadata": {},
   "outputs": [],
   "source": [
    "# max_depth_values = [1, 2, 3, 4, 5, 6, 7, 8, 9, 10,11,12, 15, 18, 22, 24, 28, 30]"
   ]
  },
  {
   "cell_type": "code",
   "execution_count": 16,
   "metadata": {},
   "outputs": [],
   "source": [
    "# from sklearn.model_selection import cross_val_score\n",
    "\n",
    "# for max_depth in max_depth_values:\n",
    "#     model = DecisionTreeClassifier(max_depth=max_depth, random_state=1)\n",
    "#     scores = cross_val_score(model, X, y, cv=10)\n",
    "#     mean_score = scores.mean()\n",
    "#     print(\"max_depth = \", max_depth, \":\", \"mean accuracy = \", mean_score*100 )"
   ]
  },
  {
   "cell_type": "markdown",
   "metadata": {
    "id": "pUGS99926qf8"
   },
   "source": [
    "#### Split train and test data"
   ]
  },
  {
   "cell_type": "code",
   "execution_count": 17,
   "metadata": {
    "id": "HTQbrMp36qf8"
   },
   "outputs": [],
   "source": [
    "X_trainset, X_testset, y_trainset, y_testset = train_test_split(X, y, test_size=0.3, random_state=140)"
   ]
  },
  {
   "cell_type": "markdown",
   "metadata": {},
   "source": [
    "#### Saving the train data as a CSV file"
   ]
  },
  {
   "cell_type": "code",
   "execution_count": 18,
   "metadata": {},
   "outputs": [],
   "source": [
    "# Save the train data as a CSV file\n",
    "train_data = pd.DataFrame(X_trainset)\n",
    "train_data['target'] = y_trainset\n",
    "train_data.to_csv('train_data.csv', index=False)"
   ]
  },
  {
   "cell_type": "markdown",
   "metadata": {},
   "source": [
    "#### Saving test Data as CSV file"
   ]
  },
  {
   "cell_type": "code",
   "execution_count": 19,
   "metadata": {},
   "outputs": [],
   "source": [
    "# Save the test data as a CSV file\n",
    "test_data = pd.DataFrame(X_testset)\n",
    "test_data['target'] = y_testset\n",
    "test_data.to_csv('test_data.csv', index=False)"
   ]
  },
  {
   "cell_type": "markdown",
   "metadata": {
    "id": "xFjKvozw6qf9"
   },
   "source": [
    "#### Printing the shape of X_trainset and y_trainset. Ensure that the dimensions match\n"
   ]
  },
  {
   "cell_type": "code",
   "execution_count": 20,
   "metadata": {
    "colab": {
     "base_uri": "https://localhost:8080/"
    },
    "id": "xBhLJyEe6qf9",
    "outputId": "a4e60773-6130-48ab-d87b-894c492576cc"
   },
   "outputs": [
    {
     "name": "stdout",
     "output_type": "stream",
     "text": [
      "(5184, 4)\n",
      "(5184,)\n"
     ]
    }
   ],
   "source": [
    "print(X_trainset.shape)\n",
    "print(y_trainset.shape)"
   ]
  },
  {
   "cell_type": "markdown",
   "metadata": {
    "id": "Db3cIQMw6qf-"
   },
   "source": [
    "#### Print the shape of X_testset and y_testset. Ensure that the dimensions match\n"
   ]
  },
  {
   "cell_type": "code",
   "execution_count": 21,
   "metadata": {
    "colab": {
     "base_uri": "https://localhost:8080/"
    },
    "id": "uRGs_3N86qf-",
    "outputId": "ff621aa5-dbff-428e-b1f8-34753811a1a6"
   },
   "outputs": [
    {
     "name": "stdout",
     "output_type": "stream",
     "text": [
      "(2223, 4)\n",
      "(2223,)\n"
     ]
    }
   ],
   "source": [
    "print(X_testset.shape)\n",
    "print(y_testset.shape)\n"
   ]
  },
  {
   "cell_type": "markdown",
   "metadata": {},
   "source": [
    "#### Checking for any null values in both test and train dataset after spliting   "
   ]
  },
  {
   "cell_type": "code",
   "execution_count": 22,
   "metadata": {},
   "outputs": [
    {
     "data": {
      "text/plain": [
       "False"
      ]
     },
     "execution_count": 22,
     "metadata": {},
     "output_type": "execute_result"
    }
   ],
   "source": [
    "test_data.isnull().values.any()"
   ]
  },
  {
   "cell_type": "code",
   "execution_count": 23,
   "metadata": {},
   "outputs": [
    {
     "data": {
      "text/plain": [
       "False"
      ]
     },
     "execution_count": 23,
     "metadata": {},
     "output_type": "execute_result"
    }
   ],
   "source": [
    "train_data.isnull().values.any()"
   ]
  },
  {
   "cell_type": "markdown",
   "metadata": {
    "id": "1_ng1uZU6qf_"
   },
   "source": [
    "<hr>\n",
    "\n",
    "<div id=\"modeling\">\n",
    "    <h2>Modeling</h2>\n",
    "    We will first create an instance of the <b>DecisionTreeClassifier</b> called <b>drugTree</b>.<br>\n",
    "    Inside of the classifier, specify <i> criterion=\"entropy\" </i> so we can see the information gain of each node.\n",
    "</div>\n"
   ]
  },
  {
   "cell_type": "code",
   "execution_count": 24,
   "metadata": {
    "colab": {
     "base_uri": "https://localhost:8080/",
     "height": 74
    },
    "id": "dON5860E6qf_",
    "outputId": "5c671e91-1d47-4c71-dcf2-9f7830db9ae6"
   },
   "outputs": [
    {
     "data": {
      "text/plain": [
       "DecisionTreeClassifier(criterion='entropy', max_depth=3)"
      ]
     },
     "execution_count": 24,
     "metadata": {},
     "output_type": "execute_result"
    }
   ],
   "source": [
    "drugTree = DecisionTreeClassifier(criterion=\"entropy\", max_depth = 3)\n",
    "drugTree # it shows the default parameters"
   ]
  },
  {
   "cell_type": "markdown",
   "metadata": {
    "id": "c9xXMkbc6qgA"
   },
   "source": [
    "Next, we will fit the data with the training feature matrix <b> X_trainset </b> and training  response vector <b> y_trainset </b>\n"
   ]
  },
  {
   "cell_type": "code",
   "execution_count": 25,
   "metadata": {
    "colab": {
     "base_uri": "https://localhost:8080/",
     "height": 74
    },
    "id": "lxTtVU0g6qgA",
    "outputId": "8cff4dda-78c8-4e97-fc11-f1c6ce1cce4f"
   },
   "outputs": [
    {
     "data": {
      "text/plain": [
       "DecisionTreeClassifier(criterion='entropy', max_depth=3)"
      ]
     },
     "execution_count": 25,
     "metadata": {},
     "output_type": "execute_result"
    }
   ],
   "source": [
    "drugTree.fit(X_trainset,y_trainset)"
   ]
  },
  {
   "cell_type": "markdown",
   "metadata": {
    "id": "6k2wb2E_6qgA"
   },
   "source": [
    "<hr>\n",
    "\n",
    "<div id=\"prediction\">\n",
    "    <h2>Prediction</h2>\n",
    "    Let's make some <b>predictions</b> on the testing dataset and store it into a variable called <b>predTree</b>.\n",
    "</div>\n"
   ]
  },
  {
   "cell_type": "code",
   "execution_count": 26,
   "metadata": {
    "id": "v1_r-5Fu6qgB"
   },
   "outputs": [],
   "source": [
    "predTree = drugTree.predict(X_testset)"
   ]
  },
  {
   "cell_type": "code",
   "execution_count": 27,
   "metadata": {
    "colab": {
     "base_uri": "https://localhost:8080/"
    },
    "id": "_xWsx_UF56PW",
    "outputId": "e75a20f5-ba6e-4b7f-9058-2097bcb9a03f"
   },
   "outputs": [
    {
     "data": {
      "text/plain": [
       "array(['Kudzu root extract', 'Vibhitaki', 'Vibhitaki', ..., 'ginger',\n",
       "       'praval pisti', 'ashwagandha'], dtype=object)"
      ]
     },
     "execution_count": 27,
     "metadata": {},
     "output_type": "execute_result"
    }
   ],
   "source": [
    "train = drugTree.predict(X_trainset)\n",
    "train"
   ]
  },
  {
   "cell_type": "markdown",
   "metadata": {
    "id": "Cvj8ZEct6qgB"
   },
   "source": [
    "we can print out <b>predTree</b> and <b>y_testset</b> if you want to visually compare the prediction to the actual values.\n"
   ]
  },
  {
   "cell_type": "code",
   "execution_count": 28,
   "metadata": {
    "colab": {
     "base_uri": "https://localhost:8080/"
    },
    "id": "jijBQrX76qgB",
    "outputId": "17d14be0-69e9-44b2-dc5e-a7cb9f441d3f",
    "scrolled": true
   },
   "outputs": [
    {
     "name": "stdout",
     "output_type": "stream",
     "text": [
      "['Vibhitaki' 'Vibhitaki' 'Vibhitaki' 'sankha vati' 'Vibhitaki' 'ginger'\n",
      " 'ginger' 'sankha vati' 'Kudzu root extract' 'Kudzu root extract'\n",
      " 'praval pisti' 'sankha vati' 'Kudzu root extract' 'praval pisti'\n",
      " 'ashwagandha' 'Kudzu root extract' 'ginger' 'Vibhitaki' 'sankha vati'\n",
      " 'praval pisti']\n",
      "['Jyotishmati' 'Ghee' 'Brahmi' 'lashunadi vati' 'Brighu mitra' 'ginger'\n",
      " 'promegranate drink' 'pippalyadi ghrita' 'Shankhapushpi Syrup'\n",
      " 'Kudzu root' 'shallaki powder' 'citrakadi vati'\n",
      " 'Anu Taila + Shankhapushpi' 'shallaki oil' 'garlic'\n",
      " 'Sarpagandha Ghan Vati' 'onion and lime peel pickles' 'Ghee' 'ajamodarka'\n",
      " 'praval pisti']\n"
     ]
    }
   ],
   "source": [
    "print (predTree [0:20])\n",
    "print (y_testset [0:20])\n"
   ]
  },
  {
   "cell_type": "markdown",
   "metadata": {
    "id": "hvBJtxKW6qgC"
   },
   "source": [
    "<hr>\n",
    "\n",
    "<div id=\"evaluation\">\n",
    "    <h2>Evaluation</h2>\n",
    "    \n",
    "    \n",
    "</div>\n",
    "\n",
    "#### Testing Accuracy"
   ]
  },
  {
   "cell_type": "code",
   "execution_count": 29,
   "metadata": {
    "colab": {
     "base_uri": "https://localhost:8080/"
    },
    "id": "nlLqPs696qgC",
    "outputId": "44319314-a42c-4520-8d35-c1c6383dffbc"
   },
   "outputs": [
    {
     "name": "stdout",
     "output_type": "stream",
     "text": [
      "DecisionTrees's Accuracy:  0.06702654071075123\n"
     ]
    }
   ],
   "source": [
    "from sklearn import metrics\n",
    "import matplotlib.pyplot as plt\n",
    "predictions_test =  metrics.accuracy_score(y_testset, predTree)\n",
    "print(\"DecisionTrees's Accuracy: \",predictions_test)"
   ]
  },
  {
   "cell_type": "markdown",
   "metadata": {
    "id": "qViYVrJy6qgD"
   },
   "source": [
    "#### Calculating the accuracy score without sklearn\n"
   ]
  },
  {
   "cell_type": "code",
   "execution_count": 30,
   "metadata": {
    "colab": {
     "base_uri": "https://localhost:8080/"
    },
    "id": "37bm4yqJ6qgD",
    "outputId": "42291f7c-b6ba-46a1-d335-2b8704f90d1d"
   },
   "outputs": [
    {
     "name": "stdout",
     "output_type": "stream",
     "text": [
      "Accuracy: 0.06702654071075123\n"
     ]
    }
   ],
   "source": [
    "correct_labels=(predTree==y_testset).sum()\n",
    "total_labels=y_testset.shape[0]\n",
    "print(\"Accuracy:\",(correct_labels/total_labels))"
   ]
  },
  {
   "cell_type": "markdown",
   "metadata": {},
   "source": [
    "#### Training Accuracy of the model"
   ]
  },
  {
   "cell_type": "code",
   "execution_count": 31,
   "metadata": {
    "colab": {
     "base_uri": "https://localhost:8080/"
    },
    "id": "fMsDpHTWgnES",
    "outputId": "651df5e0-be3b-4547-c694-62a800751d4c"
   },
   "outputs": [
    {
     "data": {
      "text/plain": [
       "0.07310956790123457"
      ]
     },
     "execution_count": 31,
     "metadata": {},
     "output_type": "execute_result"
    }
   ],
   "source": [
    "from sklearn.metrics import accuracy_score\n",
    "predictions_train = drugTree.predict(X_trainset)\n",
    "accuracy_score(y_trainset,predictions_train)"
   ]
  },
  {
   "cell_type": "markdown",
   "metadata": {
    "id": "7kMVlhcS6qgE"
   },
   "source": [
    "<hr>\n",
    "\n",
    "<div id=\"visualization\">\n",
    "    <h2>Visualization</h2>\n",
    "    Lets visualize the tree\n",
    "</div>\n"
   ]
  },
  {
   "cell_type": "code",
   "execution_count": 32,
   "metadata": {
    "colab": {
     "base_uri": "https://localhost:8080/"
    },
    "id": "IDerv6Rv6qgE",
    "outputId": "c34ab80c-9829-4d83-e70c-8c4c99e3648b"
   },
   "outputs": [],
   "source": [
    "# install the pydotplus and graphviz libraries \n",
    "# pip install pydotplus\n"
   ]
  },
  {
   "cell_type": "code",
   "execution_count": 71,
   "metadata": {
    "id": "DNinoUC26qgF"
   },
   "outputs": [],
   "source": [
    "from six import StringIO\n",
    "import pydotplus\n",
    "import graphviz\n",
    "import matplotlib.image as mpimg\n",
    "from sklearn import tree\n",
    "%matplotlib inline "
   ]
  },
  {
   "cell_type": "code",
   "execution_count": 72,
   "metadata": {
    "colab": {
     "base_uri": "https://localhost:8080/",
     "height": 372
    },
    "id": "vqnb_Su-6qgF",
    "outputId": "1f858a2c-430b-4582-ea33-552f70312452"
   },
   "outputs": [
    {
     "ename": "InvocationException",
     "evalue": "GraphViz's executables not found",
     "output_type": "error",
     "traceback": [
      "\u001B[1;31m---------------------------------------------------------------------------\u001B[0m",
      "\u001B[1;31mInvocationException\u001B[0m                       Traceback (most recent call last)",
      "\u001B[1;32m~\\AppData\\Local\\Temp\\ipykernel_16232\\3328092682.py\u001B[0m in \u001B[0;36m<module>\u001B[1;34m\u001B[0m\n\u001B[0;32m      5\u001B[0m \u001B[0mout\u001B[0m\u001B[1;33m=\u001B[0m\u001B[0mtree\u001B[0m\u001B[1;33m.\u001B[0m\u001B[0mexport_graphviz\u001B[0m\u001B[1;33m(\u001B[0m\u001B[0mdrugTree\u001B[0m\u001B[1;33m,\u001B[0m\u001B[0mfeature_names\u001B[0m\u001B[1;33m=\u001B[0m\u001B[0mfeatureNames\u001B[0m\u001B[1;33m,\u001B[0m \u001B[0mout_file\u001B[0m\u001B[1;33m=\u001B[0m\u001B[0mdot_data\u001B[0m\u001B[1;33m,\u001B[0m \u001B[0mclass_names\u001B[0m\u001B[1;33m=\u001B[0m \u001B[0mnp\u001B[0m\u001B[1;33m.\u001B[0m\u001B[0munique\u001B[0m\u001B[1;33m(\u001B[0m\u001B[0my_trainset\u001B[0m\u001B[1;33m)\u001B[0m\u001B[1;33m,\u001B[0m \u001B[0mfilled\u001B[0m\u001B[1;33m=\u001B[0m\u001B[1;32mTrue\u001B[0m\u001B[1;33m,\u001B[0m  \u001B[0mspecial_characters\u001B[0m\u001B[1;33m=\u001B[0m\u001B[1;32mTrue\u001B[0m\u001B[1;33m,\u001B[0m\u001B[0mrotate\u001B[0m\u001B[1;33m=\u001B[0m\u001B[1;32mFalse\u001B[0m\u001B[1;33m)\u001B[0m\u001B[1;33m\u001B[0m\u001B[1;33m\u001B[0m\u001B[0m\n\u001B[0;32m      6\u001B[0m \u001B[0mgraph\u001B[0m \u001B[1;33m=\u001B[0m \u001B[0mpydotplus\u001B[0m\u001B[1;33m.\u001B[0m\u001B[0mgraph_from_dot_data\u001B[0m\u001B[1;33m(\u001B[0m\u001B[0mdot_data\u001B[0m\u001B[1;33m.\u001B[0m\u001B[0mgetvalue\u001B[0m\u001B[1;33m(\u001B[0m\u001B[1;33m)\u001B[0m\u001B[1;33m)\u001B[0m\u001B[1;33m\u001B[0m\u001B[1;33m\u001B[0m\u001B[0m\n\u001B[1;32m----> 7\u001B[1;33m \u001B[0mgraph\u001B[0m\u001B[1;33m.\u001B[0m\u001B[0mwrite_png\u001B[0m\u001B[1;33m(\u001B[0m\u001B[0mfilename\u001B[0m\u001B[1;33m)\u001B[0m\u001B[1;33m\u001B[0m\u001B[1;33m\u001B[0m\u001B[0m\n\u001B[0m\u001B[0;32m      8\u001B[0m \u001B[0mimg\u001B[0m \u001B[1;33m=\u001B[0m \u001B[0mmpimg\u001B[0m\u001B[1;33m.\u001B[0m\u001B[0mimread\u001B[0m\u001B[1;33m(\u001B[0m\u001B[0mfilename\u001B[0m\u001B[1;33m)\u001B[0m\u001B[1;33m\u001B[0m\u001B[1;33m\u001B[0m\u001B[0m\n\u001B[0;32m      9\u001B[0m \u001B[0mplt\u001B[0m\u001B[1;33m.\u001B[0m\u001B[0mfigure\u001B[0m\u001B[1;33m(\u001B[0m\u001B[0mfigsize\u001B[0m\u001B[1;33m=\u001B[0m\u001B[1;33m(\u001B[0m\u001B[1;36m100\u001B[0m\u001B[1;33m,\u001B[0m \u001B[1;36m200\u001B[0m\u001B[1;33m)\u001B[0m\u001B[1;33m)\u001B[0m\u001B[1;33m\u001B[0m\u001B[1;33m\u001B[0m\u001B[0m\n",
      "\u001B[1;32m~\\AppData\\Roaming\\Python\\Python37\\site-packages\\pydotplus\\graphviz.py\u001B[0m in \u001B[0;36m<lambda>\u001B[1;34m(path, f, prog)\u001B[0m\n\u001B[0;32m   1808\u001B[0m                 \u001B[1;32mlambda\u001B[0m \u001B[0mpath\u001B[0m\u001B[1;33m,\u001B[0m\u001B[1;33m\u001B[0m\u001B[1;33m\u001B[0m\u001B[0m\n\u001B[0;32m   1809\u001B[0m                 \u001B[0mf\u001B[0m\u001B[1;33m=\u001B[0m\u001B[0mfrmt\u001B[0m\u001B[1;33m,\u001B[0m\u001B[1;33m\u001B[0m\u001B[1;33m\u001B[0m\u001B[0m\n\u001B[1;32m-> 1810\u001B[1;33m                 \u001B[0mprog\u001B[0m\u001B[1;33m=\u001B[0m\u001B[0mself\u001B[0m\u001B[1;33m.\u001B[0m\u001B[0mprog\u001B[0m\u001B[1;33m:\u001B[0m \u001B[0mself\u001B[0m\u001B[1;33m.\u001B[0m\u001B[0mwrite\u001B[0m\u001B[1;33m(\u001B[0m\u001B[0mpath\u001B[0m\u001B[1;33m,\u001B[0m \u001B[0mformat\u001B[0m\u001B[1;33m=\u001B[0m\u001B[0mf\u001B[0m\u001B[1;33m,\u001B[0m \u001B[0mprog\u001B[0m\u001B[1;33m=\u001B[0m\u001B[0mprog\u001B[0m\u001B[1;33m)\u001B[0m\u001B[1;33m\u001B[0m\u001B[1;33m\u001B[0m\u001B[0m\n\u001B[0m\u001B[0;32m   1811\u001B[0m             )\n\u001B[0;32m   1812\u001B[0m \u001B[1;33m\u001B[0m\u001B[0m\n",
      "\u001B[1;32m~\\AppData\\Roaming\\Python\\Python37\\site-packages\\pydotplus\\graphviz.py\u001B[0m in \u001B[0;36mwrite\u001B[1;34m(self, path, prog, format)\u001B[0m\n\u001B[0;32m   1916\u001B[0m \u001B[1;33m\u001B[0m\u001B[0m\n\u001B[0;32m   1917\u001B[0m             \u001B[1;32melse\u001B[0m\u001B[1;33m:\u001B[0m\u001B[1;33m\u001B[0m\u001B[1;33m\u001B[0m\u001B[0m\n\u001B[1;32m-> 1918\u001B[1;33m                 \u001B[0mfobj\u001B[0m\u001B[1;33m.\u001B[0m\u001B[0mwrite\u001B[0m\u001B[1;33m(\u001B[0m\u001B[0mself\u001B[0m\u001B[1;33m.\u001B[0m\u001B[0mcreate\u001B[0m\u001B[1;33m(\u001B[0m\u001B[0mprog\u001B[0m\u001B[1;33m,\u001B[0m \u001B[0mformat\u001B[0m\u001B[1;33m)\u001B[0m\u001B[1;33m)\u001B[0m\u001B[1;33m\u001B[0m\u001B[1;33m\u001B[0m\u001B[0m\n\u001B[0m\u001B[0;32m   1919\u001B[0m         \u001B[1;32mfinally\u001B[0m\u001B[1;33m:\u001B[0m\u001B[1;33m\u001B[0m\u001B[1;33m\u001B[0m\u001B[0m\n\u001B[0;32m   1920\u001B[0m             \u001B[1;32mif\u001B[0m \u001B[0mclose\u001B[0m\u001B[1;33m:\u001B[0m\u001B[1;33m\u001B[0m\u001B[1;33m\u001B[0m\u001B[0m\n",
      "\u001B[1;32m~\\AppData\\Roaming\\Python\\Python37\\site-packages\\pydotplus\\graphviz.py\u001B[0m in \u001B[0;36mcreate\u001B[1;34m(self, prog, format)\u001B[0m\n\u001B[0;32m   1958\u001B[0m             \u001B[1;32mif\u001B[0m \u001B[0mself\u001B[0m\u001B[1;33m.\u001B[0m\u001B[0mprogs\u001B[0m \u001B[1;32mis\u001B[0m \u001B[1;32mNone\u001B[0m\u001B[1;33m:\u001B[0m\u001B[1;33m\u001B[0m\u001B[1;33m\u001B[0m\u001B[0m\n\u001B[0;32m   1959\u001B[0m                 raise InvocationException(\n\u001B[1;32m-> 1960\u001B[1;33m                     'GraphViz\\'s executables not found')\n\u001B[0m\u001B[0;32m   1961\u001B[0m \u001B[1;33m\u001B[0m\u001B[0m\n\u001B[0;32m   1962\u001B[0m         \u001B[1;32mif\u001B[0m \u001B[0mprog\u001B[0m \u001B[1;32mnot\u001B[0m \u001B[1;32min\u001B[0m \u001B[0mself\u001B[0m\u001B[1;33m.\u001B[0m\u001B[0mprogs\u001B[0m\u001B[1;33m:\u001B[0m\u001B[1;33m\u001B[0m\u001B[1;33m\u001B[0m\u001B[0m\n",
      "\u001B[1;31mInvocationException\u001B[0m: GraphViz's executables not found"
     ]
    }
   ],
   "source": [
    "dot_data = StringIO()\n",
    "filename = \"Drug_Visualization.png\"\n",
    "featureNames = my_data.columns[0:4]\n",
    "targetNames = my_data[\"drug\"].unique().tolist()\n",
    "out=tree.export_graphviz(drugTree,feature_names=featureNames, out_file=dot_data, class_names= np.unique(y_trainset), filled=True,  special_characters=True,rotate=False)  \n",
    "graph = pydotplus.graph_from_dot_data(dot_data.getvalue())  \n",
    "graph.write_png(filename)\n",
    "img = mpimg.imread(filename)\n",
    "plt.figure(figsize=(100, 200))\n",
    "plt.imshow(img,interpolation='nearest')"
   ]
  },
  {
   "cell_type": "markdown",
   "metadata": {
    "id": "Hx7vIzgBqZLt"
   },
   "source": [
    "# Evaluating our test dataset"
   ]
  },
  {
   "cell_type": "code",
   "execution_count": null,
   "metadata": {
    "id": "3hld1qLf6qgG"
   },
   "outputs": [],
   "source": [
    "from sklearn.metrics import classification_report,confusion_matrix"
   ]
  },
  {
   "cell_type": "code",
   "execution_count": null,
   "metadata": {
    "colab": {
     "base_uri": "https://localhost:8080/"
    },
    "id": "ZhVAb8ZfqX8g",
    "outputId": "5d83eb3a-dfd3-4b8e-cbba-ac190f44f7c0"
   },
   "outputs": [],
   "source": [
    "print(classification_report(y_testset, predTree, zero_division = 1))\n",
    "# Generating the confusion matrix for evaluating the testing corpus\n",
    "conf_matrix = confusion_matrix(y_testset, predTree)\n",
    "print(\"Confusion Matrix:\")\n",
    "print(conf_matrix)"
   ]
  },
  {
   "cell_type": "markdown",
   "metadata": {
    "id": "K0Cp_rkyyYCh"
   },
   "source": [
    "# Evaluating our Training dataset"
   ]
  },
  {
   "cell_type": "code",
   "execution_count": null,
   "metadata": {
    "colab": {
     "base_uri": "https://localhost:8080/"
    },
    "id": "W4bqIOpvya_2",
    "outputId": "3815d06a-e4ed-423b-90a6-6b1ba0d09c0c"
   },
   "outputs": [],
   "source": [
    "print(classification_report(y_trainset,predictions_train, zero_division = 1))\n",
    "# Generating the confusion matrix for evaluating the training corpus\n",
    "from sklearn.metrics import confusion_matrix\n",
    "\n",
    "predictions_train = drugTree.predict(X_trainset)\n",
    "confusion_matrix_train = confusion_matrix(y_trainset, predictions_train)\n",
    "print(\"Confusion matrix (training):\\n\", confusion_matrix_train)"
   ]
  },
  {
   "cell_type": "markdown",
   "metadata": {},
   "source": [
    "### Visualizing Confusion Matrix"
   ]
  },
  {
   "cell_type": "code",
   "execution_count": 35,
   "metadata": {
    "id": "NPe-th-35Cvd"
   },
   "outputs": [
    {
     "ename": "ModuleNotFoundError",
     "evalue": "No module named 'seaborn'",
     "output_type": "error",
     "traceback": [
      "\u001B[1;31m---------------------------------------------------------------------------\u001B[0m",
      "\u001B[1;31mModuleNotFoundError\u001B[0m                       Traceback (most recent call last)",
      "\u001B[1;32m~\\AppData\\Local\\Temp\\ipykernel_16232\\4007603612.py\u001B[0m in \u001B[0;36m<module>\u001B[1;34m\u001B[0m\n\u001B[0;32m      7\u001B[0m \u001B[1;32mfrom\u001B[0m \u001B[0msklearn\u001B[0m \u001B[1;32mimport\u001B[0m \u001B[0mtree\u001B[0m\u001B[1;33m\u001B[0m\u001B[1;33m\u001B[0m\u001B[0m\n\u001B[0;32m      8\u001B[0m \u001B[1;32mfrom\u001B[0m \u001B[0msklearn\u001B[0m\u001B[1;33m.\u001B[0m\u001B[0mmetrics\u001B[0m \u001B[1;32mimport\u001B[0m \u001B[0maccuracy_score\u001B[0m\u001B[1;33m,\u001B[0m\u001B[0mconfusion_matrix\u001B[0m\u001B[1;33m\u001B[0m\u001B[1;33m\u001B[0m\u001B[0m\n\u001B[1;32m----> 9\u001B[1;33m \u001B[1;32mimport\u001B[0m \u001B[0mseaborn\u001B[0m \u001B[1;32mas\u001B[0m \u001B[0msns\u001B[0m\u001B[1;33m\u001B[0m\u001B[1;33m\u001B[0m\u001B[0m\n\u001B[0m\u001B[0;32m     10\u001B[0m \u001B[1;32mimport\u001B[0m \u001B[0mmatplotlib\u001B[0m\u001B[1;33m.\u001B[0m\u001B[0mpyplot\u001B[0m \u001B[1;32mas\u001B[0m \u001B[0mplt\u001B[0m\u001B[1;33m\u001B[0m\u001B[1;33m\u001B[0m\u001B[0m\n",
      "\u001B[1;31mModuleNotFoundError\u001B[0m: No module named 'seaborn'"
     ]
    }
   ],
   "source": [
    "import numpy as np\n",
    "import pandas as pd\n",
    "import os\n",
    "from sklearn.preprocessing import LabelEncoder\n",
    "from sklearn.model_selection import train_test_split\n",
    "from sklearn.model_selection import RandomizedSearchCV, GridSearchCV\n",
    "from sklearn import tree\n",
    "from sklearn.metrics import accuracy_score,confusion_matrix\n",
    "import seaborn as sns\n",
    "import matplotlib.pyplot as plt"
   ]
  },
  {
   "cell_type": "code",
   "execution_count": null,
   "metadata": {
    "colab": {
     "base_uri": "https://localhost:8080/"
    },
    "id": "zyHUn4uV_ZIJ",
    "outputId": "2b29a092-3ed0-49ab-aad1-a213fe2e3ea8"
   },
   "outputs": [],
   "source": [
    "conf_matrix = confusion_matrix(y_testset, predTree )\n",
    "print(conf_matrix)"
   ]
  },
  {
   "cell_type": "code",
   "execution_count": null,
   "metadata": {
    "colab": {
     "base_uri": "https://localhost:8080/",
     "height": 603
    },
    "id": "Q_hMuW1m5FQz",
    "outputId": "8b8d9c1c-2b80-4288-dc02-37ef95f6bc05"
   },
   "outputs": [],
   "source": [
    "from sklearn.metrics._plot.confusion_matrix import ConfusionMatrixDisplay\n",
    "from sklearn.metrics import confusion_matrix\n",
    "print(f'Train score {accuracy_score(train,y_trainset)}')\n",
    "print(f'Test score {accuracy_score(predTree,y_testset)}')\n",
    "conf_test = ConfusionMatrixDisplay(confusion_matrix=conf_matrix)\n",
    "conf_train = ConfusionMatrixDisplay(confusion_matrix= confusion_matrix_train)\n",
    "conf_test.plot()\n",
    "conf_train.plot()"
   ]
  },
  {
   "cell_type": "code",
   "execution_count": null,
   "metadata": {},
   "outputs": [],
   "source": []
  }
 ],
 "metadata": {
  "anaconda-cloud": {},
  "colab": {
   "provenance": []
  },
  "kernelspec": {
   "display_name": "Python 3 (ipykernel)",
   "language": "python",
   "name": "python3"
  },
  "language_info": {
   "codemirror_mode": {
    "name": "ipython",
    "version": 3
   },
   "file_extension": ".py",
   "mimetype": "text/x-python",
   "name": "python",
   "nbconvert_exporter": "python",
   "pygments_lexer": "ipython3",
   "version": "3.7.4"
  }
 },
 "nbformat": 4,
 "nbformat_minor": 1
}
